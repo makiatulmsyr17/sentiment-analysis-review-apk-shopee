{
  "nbformat": 4,
  "nbformat_minor": 0,
  "metadata": {
    "colab": {
      "provenance": [],
      "toc_visible": true
    },
    "kernelspec": {
      "name": "python3",
      "display_name": "Python 3"
    },
    "language_info": {
      "name": "python"
    }
  },
  "cells": [
    {
      "cell_type": "code",
      "execution_count": 6,
      "metadata": {
        "colab": {
          "base_uri": "https://localhost:8080/"
        },
        "id": "Xe_W2gx50fgg",
        "outputId": "a7da158d-0c45-4460-9085-5173d268c1db"
      },
      "outputs": [
        {
          "output_type": "stream",
          "name": "stderr",
          "text": [
            "WARNING:absl:Compiled the loaded model, but the compiled metrics have yet to be built. `model.compile_metrics` will be empty until you train or evaluate the model.\n",
            "WARNING:tensorflow:5 out of the last 5 calls to <function TensorFlowTrainer.make_predict_function.<locals>.one_step_on_data_distributed at 0x78704e629760> triggered tf.function retracing. Tracing is expensive and the excessive number of tracings could be due to (1) creating @tf.function repeatedly in a loop, (2) passing tensors with different shapes, (3) passing Python objects instead of tensors. For (1), please define your @tf.function outside of the loop. For (2), @tf.function has reduce_retracing=True option that can avoid unnecessary retracing. For (3), please refer to https://www.tensorflow.org/guide/function#controlling_retracing and https://www.tensorflow.org/api_docs/python/tf/function for  more details.\n"
          ]
        },
        {
          "output_type": "stream",
          "name": "stdout",
          "text": [
            "\u001b[1m1/1\u001b[0m \u001b[32m━━━━━━━━━━━━━━━━━━━━\u001b[0m\u001b[37m\u001b[0m \u001b[1m1s\u001b[0m 862ms/step\n",
            "Teks: Pengalaman belanja yang menyenangkan, barang cepat sampai dan kualitas bagus\n",
            "=> Prediksi Sentimen: positif\n",
            "\n",
            "Teks: Aplikasi sering error dan customer service lambat tanggapannya, sangat mengecewakan\n",
            "=> Prediksi Sentimen: negatif\n",
            "\n",
            "Teks: belum optimal tetapi lumayan bagus\n",
            "=> Prediksi Sentimen: netral\n",
            "\n"
          ]
        }
      ],
      "source": [
        "import numpy as np\n",
        "from tensorflow.keras.preprocessing.sequence import pad_sequences\n",
        "from tensorflow.keras.models import load_model\n",
        "\n",
        "# 1. Muat kembali tokenizer dan model\n",
        "import pickle\n",
        "\n",
        "with open('/content/drive/MyDrive/AI/Laskar AI/dataset/senimen analisis/tokenizer.pkl', 'rb') as handle:\n",
        "    tokenizer = pickle.load(handle)\n",
        "\n",
        "model = load_model('/content/model_LSTM.h5')  # ganti dengan path model yang kamu simpan\n",
        "\n",
        "# 2. Contoh data baru untuk diuji\n",
        "new_texts = [\n",
        "    \"Pengalaman belanja yang menyenangkan, barang cepat sampai dan kualitas bagus\",  # positif\n",
        "    \"Aplikasi sering error dan customer service lambat tanggapannya, sangat mengecewakan\",  # negatif\n",
        "    \"belum optimal tetapi lumayan bagus\",  # netral\n",
        "]\n",
        "\n",
        "# 3. Tokenisasi dan padding data baru\n",
        "sequences = tokenizer.texts_to_sequences(new_texts)\n",
        "X_new = pad_sequences(sequences, maxlen=100)  # sesuaikan maxlen dengan model kamu\n",
        "\n",
        "# 4. Melakukan prediksi\n",
        "predictions = model.predict(X_new)\n",
        "\n",
        "# 5. Mapping ke label kategorikal\n",
        "label_mapping = ['negatif', 'netral', 'positif']  # sesuaikan urutannya dengan label pada y_train\n",
        "predicted_classes = [label_mapping[np.argmax(pred)] for pred in predictions]\n",
        "\n",
        "# 6. Tampilkan hasil\n",
        "for text, label in zip(new_texts, predicted_classes):\n",
        "    print(f\"Teks: {text}\\n=> Prediksi Sentimen: {label}\\n\")\n"
      ]
    }
  ]
}
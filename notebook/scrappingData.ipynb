{
  "nbformat": 4,
  "nbformat_minor": 0,
  "metadata": {
    "colab": {
      "provenance": [],
      "toc_visible": true
    },
    "kernelspec": {
      "name": "python3",
      "display_name": "Python 3"
    },
    "language_info": {
      "name": "python"
    }
  },
  "cells": [
    {
      "cell_type": "markdown",
      "source": [
        "# Scrapping Data"
      ],
      "metadata": {
        "id": "9XIOoYlWjwo9"
      }
    },
    {
      "cell_type": "markdown",
      "source": [
        "Pada tahap ini, dilakukan pengumpulan data ulasan pengguna dari aplikasi Shopee yang tersedia di Google Play Store. Data ulasan yang diperoleh akan dimanfaatkan untuk keperluan analisis sentimen. Proses pengambilan data ini dilakukan secara mandiri dengan memanfaatkan library google-play-scraper menggunakan bahasa pemrograman Python."
      ],
      "metadata": {
        "id": "3p6cOOCzj52T"
      }
    },
    {
      "cell_type": "code",
      "execution_count": null,
      "metadata": {
        "colab": {
          "base_uri": "https://localhost:8080/"
        },
        "id": "uJ5MVm1sjf--",
        "outputId": "bb115bde-85a8-4b69-cef3-28c3fcacb82b"
      },
      "outputs": [
        {
          "output_type": "stream",
          "name": "stdout",
          "text": [
            "Requirement already satisfied: google-play-scraper in /usr/local/lib/python3.11/dist-packages (1.2.7)\n"
          ]
        }
      ],
      "source": [
        "%pip install google-play-scraper"
      ]
    },
    {
      "cell_type": "markdown",
      "source": [
        "# Import Library"
      ],
      "metadata": {
        "id": "Y7nau4XkkH9b"
      }
    },
    {
      "cell_type": "code",
      "source": [
        "from google_play_scraper import reviews, Sort\n",
        "import pandas as pd"
      ],
      "metadata": {
        "id": "Pt4tub9JkLVe"
      },
      "execution_count": null,
      "outputs": []
    },
    {
      "cell_type": "markdown",
      "source": [
        "## Prosees Crapping data"
      ],
      "metadata": {
        "id": "yKxdXXspPQSl"
      }
    },
    {
      "cell_type": "code",
      "source": [
        "# Ambil 30000 review aplikasi Shopee Indonesia\n",
        "result, _ = reviews(\n",
        "    'com.shopee.id',   # ID aplikasi Shopee di Google Play\n",
        "    lang='id',\n",
        "    country='id',\n",
        "    sort=Sort.NEWEST,  # atau Sort.MOST_RELEVANT\n",
        "    count=30000        # Ambil sampai 30.000\n",
        ")"
      ],
      "metadata": {
        "id": "NUXJUChukMgB"
      },
      "execution_count": null,
      "outputs": []
    },
    {
      "cell_type": "code",
      "source": [
        "# Convert ke DataFrame\n",
        "df_shopee = pd.DataFrame(result)\n",
        "\n",
        "# Simpan ke CSV\n",
        "df_shopee.to_csv('shopee_reviews.csv', index=False)\n",
        "print(\"Sukses! Review Shopee disimpan sebagai 'shopee_reviews.csv'\")"
      ],
      "metadata": {
        "colab": {
          "base_uri": "https://localhost:8080/"
        },
        "id": "2U445ToHkr4b",
        "outputId": "624dcd2d-70fd-4d0a-fc45-3cff05136dc8"
      },
      "execution_count": null,
      "outputs": [
        {
          "output_type": "stream",
          "name": "stdout",
          "text": [
            "Sukses! Review Shopee disimpan sebagai 'shopee_reviews.csv'\n"
          ]
        }
      ]
    }
  ]
}